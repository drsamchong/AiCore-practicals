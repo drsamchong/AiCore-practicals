{
  "nbformat": 4,
  "nbformat_minor": 0,
  "metadata": {
    "colab": {
      "provenance": [],
      "mount_file_id": "1isd6Nq7hVYvVZyk4NZoVIS6_O0uEQwqS",
      "authorship_tag": "ABX9TyMHB4ssGKES2qEGOn6OKKyA",
      "include_colab_link": true
    },
    "kernelspec": {
      "name": "python3",
      "display_name": "Python 3"
    },
    "language_info": {
      "name": "python"
    }
  },
  "cells": [
    {
      "cell_type": "markdown",
      "metadata": {
        "id": "view-in-github",
        "colab_type": "text"
      },
      "source": [
        "<a href=\"https://colab.research.google.com/github/drsamchong/AiCore-practicals/blob/main/oop_hangman.ipynb\" target=\"_parent\"><img src=\"https://colab.research.google.com/assets/colab-badge.svg\" alt=\"Open In Colab\"/></a>"
      ]
    },
    {
      "cell_type": "code",
      "execution_count": 30,
      "metadata": {
        "colab": {
          "base_uri": "https://localhost:8080/"
        },
        "id": "uIeLtVD62paR",
        "outputId": "09cc9866-09e3-4dda-f54a-c0ef0374ebdd"
      },
      "outputs": [
        {
          "output_type": "stream",
          "name": "stdout",
          "text": [
            "_ _ _ _ _ \n"
          ]
        }
      ],
      "source": [
        "word = \"brain\"\n",
        "\n",
        "n_letters = len(word)\n",
        "letters_remaining = list(set(word.lower()))\n",
        "\n",
        "reminder = \"_ \" * n_letters\n",
        "\n",
        "#print(letters_remaining)\n",
        "print(reminder)\n",
        "\n",
        "\n"
      ]
    },
    {
      "cell_type": "code",
      "source": [
        "def ask_for_guess():\n",
        "  guess = input(\"Please guess a letter: \")\n",
        "  if validate_guess(guess) == False:\n",
        "    guess = ask_for_guess()\n",
        "  else:\n",
        "    return guess\n",
        "\n",
        "def validate_guess(guess):\n",
        "  if len(guess) != 1:\n",
        "    print(\"Please enter a single letter.\")\n",
        "    return False\n",
        "  elif not guess.isalpha():\n",
        "    print(\"Please enter a single letter guess.\")\n",
        "    return False\n",
        "  else:\n",
        "    return True\n",
        "  \n",
        "\n",
        "  "
      ],
      "metadata": {
        "id": "Ap0aBM8A9Vlz"
      },
      "execution_count": 31,
      "outputs": []
    },
    {
      "cell_type": "code",
      "source": [
        "n_lives = 3\n",
        "\n",
        "while n_lives > 0:\n",
        "#  guess = input(\"Please guess a letter: \")\n",
        "\n",
        "  guess = ask_for_guess()\n",
        "\n",
        "  if guess in letters_remaining:\n",
        "    print(\"Good guess\")\n",
        "    letters_remaining.remove(guess)\n",
        "\n",
        "  else:\n",
        "    print(f\"{guess} is not in the word\")\n",
        "    n_lives -= 1\n",
        "  if len(letters_remaining) == 0:\n",
        "    print(\"You win!\")\n",
        "    break\n",
        "  else:\n",
        "    print(f\"There are {len(letters_remaining)} letters left to guess. You have {n_lives} lives.\")\n",
        "\n",
        "else:\n",
        "  print(\"You lose.\")\n"
      ],
      "metadata": {
        "colab": {
          "base_uri": "https://localhost:8080/"
        },
        "id": "hWb0WXvE3gLf",
        "outputId": "12e071eb-2f50-42cb-dae8-44c9f459899c"
      },
      "execution_count": 26,
      "outputs": [
        {
          "output_type": "stream",
          "name": "stdout",
          "text": [
            "Please guess a letter: i\n",
            "i is not in the word\n",
            "There are 4 letters left to guess. You have 2 lives.\n",
            "Please guess a letter: .\n",
            "Please enter a single letter guess.\n",
            "Please guess a letter: ]\n",
            "Please enter a single letter guess.\n",
            "Please guess a letter: ij\n",
            "Please enter a single letter.\n",
            "Please guess a letter: ]\n",
            "Please enter a single letter guess.\n",
            "Please guess a letter: l\n",
            "None is not in the word\n",
            "There are 4 letters left to guess. You have 1 lives.\n",
            "Please guess a letter: o\n",
            "o is not in the word\n",
            "There are 4 letters left to guess. You have 0 lives.\n",
            "You lose.\n"
          ]
        }
      ]
    },
    {
      "cell_type": "code",
      "source": [
        "\n",
        "\n"
      ],
      "metadata": {
        "id": "oc4lBcSL5tOH"
      },
      "execution_count": null,
      "outputs": []
    }
  ]
}