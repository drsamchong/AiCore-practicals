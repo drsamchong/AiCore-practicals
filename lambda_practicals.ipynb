{
 "cells": [
  {
   "cell_type": "code",
   "execution_count": 45,
   "metadata": {},
   "outputs": [
    {
     "data": {
      "text/plain": [
       "9"
      ]
     },
     "execution_count": 45,
     "metadata": {},
     "output_type": "execute_result"
    }
   ],
   "source": [
    "square = lambda x: x ** 2\n",
    "\n",
    "square(3)"
   ]
  },
  {
   "cell_type": "code",
   "execution_count": 46,
   "metadata": {},
   "outputs": [
    {
     "data": {
      "text/plain": [
       "27"
      ]
     },
     "execution_count": 46,
     "metadata": {},
     "output_type": "execute_result"
    }
   ],
   "source": [
    "cube = lambda x: x ** 3\n",
    "\n",
    "cube(3)"
   ]
  },
  {
   "cell_type": "code",
   "execution_count": 47,
   "metadata": {},
   "outputs": [
    {
     "data": {
      "text/plain": [
       "8"
      ]
     },
     "execution_count": 47,
     "metadata": {},
     "output_type": "execute_result"
    }
   ],
   "source": [
    "num_sum = lambda x, y: x + y\n",
    "\n",
    "num_sum(2, 6)"
   ]
  },
  {
   "cell_type": "code",
   "execution_count": 48,
   "metadata": {},
   "outputs": [
    {
     "data": {
      "text/plain": [
       "12"
      ]
     },
     "execution_count": 48,
     "metadata": {},
     "output_type": "execute_result"
    }
   ],
   "source": [
    "product = lambda x, y: x * y\n",
    "\n",
    "product(6, 2)"
   ]
  },
  {
   "attachments": {},
   "cell_type": "markdown",
   "metadata": {},
   "source": [
    "#### sorted\n",
    "\n",
    "- sort an iterable\n",
    "- lambda lets you choose which key of an iterable to sort by, or to apply a funciton to some part and sort by that\n",
    "\n",
    "`sorted(iterable, key=thing_to_sort_by, reverse=False)`"
   ]
  },
  {
   "cell_type": "code",
   "execution_count": 49,
   "metadata": {},
   "outputs": [
    {
     "data": {
      "text/plain": [
       "[('caron', 1), ('harv', 2), ('jenna', 4), ('shane', 8), ('alesha', 9)]"
      ]
     },
     "execution_count": 49,
     "metadata": {},
     "output_type": "execute_result"
    }
   ],
   "source": [
    "my_tuples = [(\"shane\", 8), (\"alesha\", 9), (\"caron\", 1), (\"harv\", 2), (\"jenna\", 4)]\n",
    "\n",
    "#Sort the list by the number in each tuple\n",
    "sorted(my_tuples, key=lambda tup: tup[1])"
   ]
  },
  {
   "cell_type": "code",
   "execution_count": 50,
   "metadata": {},
   "outputs": [
    {
     "data": {
      "text/plain": [
       "[('alesha', 9), ('caron', 1), ('harv', 2), ('jenna', 4), ('shane', 8)]"
      ]
     },
     "execution_count": 50,
     "metadata": {},
     "output_type": "execute_result"
    }
   ],
   "source": [
    "#Sort the list by the name in each tuple\n",
    "sorted(my_tuples)"
   ]
  },
  {
   "cell_type": "code",
   "execution_count": 51,
   "metadata": {},
   "outputs": [
    {
     "data": {
      "text/plain": [
       "[('harv', 2), ('shane', 8), ('caron', 1), ('jenna', 4), ('alesha', 9)]"
      ]
     },
     "execution_count": 51,
     "metadata": {},
     "output_type": "execute_result"
    }
   ],
   "source": [
    "# Sort the list by the length of the name in each tuple\n",
    "sorted(my_tuples, key=lambda tup: len(tup[0]))"
   ]
  },
  {
   "cell_type": "code",
   "execution_count": 52,
   "metadata": {},
   "outputs": [
    {
     "data": {
      "text/plain": [
       "[('alesha', 9), ('shane', 8), ('caron', 1), ('jenna', 4), ('harv', 2)]"
      ]
     },
     "execution_count": 52,
     "metadata": {},
     "output_type": "execute_result"
    }
   ],
   "source": [
    "# Sort the list by the length of the name in each tuple, but in reverse order\n",
    "sorted(my_tuples, key=lambda tup: len(tup[0]), reverse=True)"
   ]
  },
  {
   "attachments": {},
   "cell_type": "markdown",
   "metadata": {},
   "source": [
    "#### map\n",
    "\n",
    "- apply a function to elements of an iterable\n",
    "\n",
    "`map(lambda x: x*2, my_function)`"
   ]
  },
  {
   "cell_type": "code",
   "execution_count": 53,
   "metadata": {},
   "outputs": [
    {
     "data": {
      "text/plain": [
       "[1, 5, 10, 15, 20, 25, 42, 1, 5, 10, 15, 20, 25, 42]"
      ]
     },
     "execution_count": 53,
     "metadata": {},
     "output_type": "execute_result"
    }
   ],
   "source": [
    "# this doesn't do that - it just puts two copies of the list together\n",
    "ls_numbers = [1, 5, 10, 15, 20, 25, 42]\n",
    "ls_numbers * 2"
   ]
  },
  {
   "cell_type": "code",
   "execution_count": 54,
   "metadata": {},
   "outputs": [
    {
     "name": "stdout",
     "output_type": "stream",
     "text": [
      "[2, 10, 20, 30, 40, 50, 84]\n",
      "[2, 10, 20, 30, 40, 50, 84]\n"
     ]
    }
   ],
   "source": [
    "list_comp_double = [x * 2 for x in ls_numbers]\n",
    "map_double = map(lambda x: x * 2, ls_numbers)\n",
    "\n",
    "print(list_comp_double)\n",
    "print(list(map_double))"
   ]
  },
  {
   "cell_type": "code",
   "execution_count": 20,
   "metadata": {},
   "outputs": [
    {
     "data": {
      "text/plain": [
       "[4, 36, 16, 81, 100]"
      ]
     },
     "execution_count": 20,
     "metadata": {},
     "output_type": "execute_result"
    }
   ],
   "source": [
    "my_numbers = [2, 6, 4, 9, 10]\n",
    "\n",
    "square = lambda x: x ** 2\n",
    "\n",
    "list(map(square, my_numbers))"
   ]
  },
  {
   "cell_type": "code",
   "execution_count": 21,
   "metadata": {},
   "outputs": [
    {
     "data": {
      "text/plain": [
       "[8, 216, 64, 729, 1000]"
      ]
     },
     "execution_count": 21,
     "metadata": {},
     "output_type": "execute_result"
    }
   ],
   "source": [
    "cube = lambda x: x ** 3\n",
    "\n",
    "list(map(cube, my_numbers))"
   ]
  },
  {
   "cell_type": "code",
   "execution_count": 22,
   "metadata": {},
   "outputs": [
    {
     "data": {
      "text/plain": [
       "[4, 36, 16, 729, 100]"
      ]
     },
     "execution_count": 22,
     "metadata": {},
     "output_type": "execute_result"
    }
   ],
   "source": [
    "square_even_cube_odd = lambda x: x ** 2 if x % 2 == 0 else x ** 3\n",
    "\n",
    "list(map(square_even_cube_odd, my_numbers))\n"
   ]
  },
  {
   "attachments": {},
   "cell_type": "markdown",
   "metadata": {},
   "source": [
    "#### filter\n",
    "\n",
    "- filter the elements of an iterable based on a condition in the lambda\n",
    "\n",
    "`filter(lambda x: x > 1, my_numbers)`"
   ]
  },
  {
   "cell_type": "code",
   "execution_count": 55,
   "metadata": {},
   "outputs": [
    {
     "data": {
      "text/plain": [
       "[('shane', 8), ('alesha', 9), ('jenna', 4)]"
      ]
     },
     "execution_count": 55,
     "metadata": {},
     "output_type": "execute_result"
    }
   ],
   "source": [
    "my_tuples = [(\"shane\", 8), (\"alesha\", 9), (\"caron\", 1), (\"harv\", 2), (\"jenna\", 4)]\n",
    "\n",
    "list(filter(lambda x: x[1] >= 4, my_tuples))"
   ]
  },
  {
   "cell_type": "code",
   "execution_count": 62,
   "metadata": {},
   "outputs": [
    {
     "data": {
      "text/plain": [
       "['carrier', 'yellowing', 'evensong']"
      ]
     },
     "execution_count": 62,
     "metadata": {},
     "output_type": "execute_result"
    }
   ],
   "source": [
    "# Create a lambda function that takes in a string and returns True if the string is longer than 5 characters, and False if it is not. \n",
    "# Then use filter and the lambda function to filter out all strings that are longer than 5 characters\n",
    "\n",
    "my_strings = [\"carrier\", \"boat\", \"hen\", \"yellowing\", \"just\", \"great\", \"evensong\"]\n",
    "\n",
    "long_string = lambda x: True if len(x) > 5 else False\n",
    "\n",
    "list(filter(long_string, my_strings))\n",
    "\n"
   ]
  },
  {
   "cell_type": "code",
   "execution_count": 68,
   "metadata": {},
   "outputs": [
    {
     "data": {
      "text/plain": [
       "['evensong']"
      ]
     },
     "execution_count": 68,
     "metadata": {},
     "output_type": "execute_result"
    }
   ],
   "source": [
    "# Create a lambda function that takes in a string and returns True if the string is longer than 5 characters and starts with a vowel, and False if it is not. \n",
    "# Then use filter and the lambda function to filter out all strings that are longer than 5 characters and start with a vowel\n",
    "long_string_vowel = lambda x: True if (len(x) > 5) and (x[0] in ['a', 'e', 'i', 'o', 'u']) else False \n",
    "\n",
    "list(filter(long_string_vowel, my_strings))\n"
   ]
  },
  {
   "cell_type": "code",
   "execution_count": 66,
   "metadata": {},
   "outputs": [
    {
     "data": {
      "text/plain": [
       "['c', 'b', 'h', 'y', 'j', 'g', 'e']"
      ]
     },
     "execution_count": 66,
     "metadata": {},
     "output_type": "execute_result"
    }
   ],
   "source": []
  },
  {
   "cell_type": "code",
   "execution_count": null,
   "metadata": {},
   "outputs": [],
   "source": []
  }
 ],
 "metadata": {
  "kernelspec": {
   "display_name": "AiCore-base",
   "language": "python",
   "name": "python3"
  },
  "language_info": {
   "codemirror_mode": {
    "name": "ipython",
    "version": 3
   },
   "file_extension": ".py",
   "mimetype": "text/x-python",
   "name": "python",
   "nbconvert_exporter": "python",
   "pygments_lexer": "ipython3",
   "version": "3.11.0"
  },
  "orig_nbformat": 4,
  "vscode": {
   "interpreter": {
    "hash": "3ffeeb597b1af2cbfc54da3b21edbe6cf57613e9a3c6ae8cbb9f03bf4f40de10"
   }
  }
 },
 "nbformat": 4,
 "nbformat_minor": 2
}
