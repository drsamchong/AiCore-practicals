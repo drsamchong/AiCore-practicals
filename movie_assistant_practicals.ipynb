{
 "cells": [
  {
   "cell_type": "code",
   "execution_count": 1,
   "metadata": {},
   "outputs": [
    {
     "data": {
      "text/plain": [
       "45"
      ]
     },
     "execution_count": 1,
     "metadata": {},
     "output_type": "execute_result"
    }
   ],
   "source": [
    "long_word = \"Pneumonoultramicroscopicsilicovolcanoconiosis\"\n",
    "len(long_word)"
   ]
  },
  {
   "cell_type": "code",
   "execution_count": 2,
   "metadata": {},
   "outputs": [
    {
     "name": "stdout",
     "output_type": "stream",
     "text": [
      "Ps\n"
     ]
    }
   ],
   "source": [
    "first_c = long_word[0]\n",
    "last_c = long_word[-1]\n",
    "\n",
    "print(first_c + last_c)"
   ]
  },
  {
   "cell_type": "code",
   "execution_count": 7,
   "metadata": {},
   "outputs": [
    {
     "name": "stdout",
     "output_type": "stream",
     "text": [
      "67\n",
      "17\n",
      "1050\n",
      "1.68\n",
      "<class 'float'>\n"
     ]
    }
   ],
   "source": [
    "a = 42\n",
    "b = 25\n",
    "\n",
    "print(a+b)\n",
    "print(a-b)\n",
    "print(a*b)\n",
    "print(a/b)\n",
    "a=4.2\n",
    "print(type(a+b))"
   ]
  },
  {
   "cell_type": "code",
   "execution_count": 9,
   "metadata": {},
   "outputs": [
    {
     "name": "stdout",
     "output_type": "stream",
     "text": [
      "2.18\n",
      "6.1\n"
     ]
    }
   ],
   "source": [
    "tom = 0.87/6\n",
    "sugar_g = 1.09/500\n",
    "sponge = 0.29/10\n",
    "juice_l = 1.89/1.5\n",
    "foil_m = 1.29/30\n",
    "\n",
    "sugar_kg = sugar_g * 1000\n",
    "\n",
    "shopping = (20*sponge) + (3 * juice_l) + (2 * tom * 6)\n",
    "\n",
    "print(sugar_kg)\n",
    "print(shopping)"
   ]
  },
  {
   "cell_type": "code",
   "execution_count": 17,
   "metadata": {},
   "outputs": [
    {
     "data": {
      "text/plain": [
       "3"
      ]
     },
     "execution_count": 17,
     "metadata": {},
     "output_type": "execute_result"
    }
   ],
   "source": [
    "# floor -  how many fit completely into the numerator? Sort of the opposite of modulo\n",
    "\n",
    "(10 //3)"
   ]
  },
  {
   "cell_type": "code",
   "execution_count": 16,
   "metadata": {},
   "outputs": [
    {
     "name": "stdout",
     "output_type": "stream",
     "text": [
      "1044.75\n",
      "not mulitple of 3\n"
     ]
    },
    {
     "data": {
      "text/plain": [
       "-1163220302.3333333"
      ]
     },
     "execution_count": 16,
     "metadata": {},
     "output_type": "execute_result"
    }
   ],
   "source": [
    "val = (1 + 9/3) * 11 + 1000 + 0.75\n",
    "\n",
    "print(val)\n",
    "\n",
    "number = 7\n",
    "\n",
    "if number % 3 == 0:\n",
    "    print(\"multiple of 3\")\n",
    "else:\n",
    "    print(\"not mulitple of 3\")\n",
    "\n",
    "\n",
    "1 + 2 * 3 - 4 / 6 * (6 + 7) * 8 ** 9"
   ]
  },
  {
   "cell_type": "code",
   "execution_count": 9,
   "metadata": {},
   "outputs": [
    {
     "data": {
      "text/plain": [
       "'Python'"
      ]
     },
     "execution_count": 9,
     "metadata": {},
     "output_type": "execute_result"
    }
   ],
   "source": [
    "one_deep_dictionary = {'start here':1,\\\n",
    "                       'k1':[1,2,3,{'k2':[1,2,{'k3':['keep going',{'further':[1,2,3,4,[{'k4':'Python'}]]}]}]}]}\n",
    "\n",
    "\n",
    "one_deep_dictionary['k1'][3]['k2'][2]['k3'][1]['further'][4][0]['k4']"
   ]
  },
  {
   "cell_type": "code",
   "execution_count": 15,
   "metadata": {},
   "outputs": [
    {
     "data": {
      "text/plain": [
       "True"
      ]
     },
     "execution_count": 15,
     "metadata": {},
     "output_type": "execute_result"
    }
   ],
   "source": [
    "99 > 5\n",
    "0 == False\n",
    "1 == True\n",
    "6.2 < 7 \n",
    "9 >= 9\n",
    "False < True\n"
   ]
  },
  {
   "cell_type": "markdown",
   "metadata": {},
   "source": [
    "XOR Gate\n",
    "\n",
    "Returns True (1 or HIGH) when one input is true, but not both. Aka \"exclusive OR\"\n",
    "\n",
    "Can built from an AND gate whose inputs are the output of a NAND (NOT AND: one or neither is true) and OR gate\n",
    "http://hyperphysics.phy-astr.gsu.edu/hbase/Electronic/xor.html#c1\n"
   ]
  },
  {
   "cell_type": "code",
   "execution_count": 27,
   "metadata": {},
   "outputs": [
    {
     "data": {
      "text/plain": [
       "True"
      ]
     },
     "execution_count": 27,
     "metadata": {},
     "output_type": "execute_result"
    }
   ],
   "source": [
    "a = True\n",
    "b = False\n",
    "\n",
    "c = a or b\n",
    "d = a and b\n",
    "\n",
    "d_not = not d\n",
    "xor = d_not and c\n",
    "xor"
   ]
  },
  {
   "cell_type": "code",
   "execution_count": 29,
   "metadata": {},
   "outputs": [
    {
     "data": {
      "text/plain": [
       "True"
      ]
     },
     "execution_count": 29,
     "metadata": {},
     "output_type": "execute_result"
    }
   ],
   "source": [
    "xor = (a or b) and not(a and b)\n",
    "xor"
   ]
  },
  {
   "cell_type": "markdown",
   "metadata": {},
   "source": [
    "<h3>Comparing strings</h3>\n",
    "\n",
    "Based on the unicode of the characters. Lowercase are higher"
   ]
  },
  {
   "cell_type": "code",
   "execution_count": 32,
   "metadata": {},
   "outputs": [
    {
     "data": {
      "text/plain": [
       "True"
      ]
     },
     "execution_count": 32,
     "metadata": {},
     "output_type": "execute_result"
    }
   ],
   "source": [
    "'AAA' > 'BBB'   # False\n",
    "'AAB' > 'AAA'   # True\n",
    "'aaa' > 'AAA'   # True"
   ]
  },
  {
   "cell_type": "markdown",
   "metadata": {},
   "source": [
    "<h3>Comparing integers</h3>"
   ]
  },
  {
   "cell_type": "code",
   "execution_count": 35,
   "metadata": {},
   "outputs": [
    {
     "name": "stdout",
     "output_type": "stream",
     "text": [
      "12 is greater than 10\n"
     ]
    }
   ],
   "source": [
    "x = 10\n",
    "n = int(input(\"Please enter a number:\"))\n",
    "if n > x:\n",
    "    print(f\"{n} is greater than {x}\")\n"
   ]
  },
  {
   "cell_type": "markdown",
   "metadata": {},
   "source": [
    "<h2>Dictionaries</h2>"
   ]
  },
  {
   "cell_type": "code",
   "execution_count": 54,
   "metadata": {},
   "outputs": [],
   "source": [
    "shop = {'shopping':{'tomatoes':18,\n",
    "        'washing_sponges':2,\n",
    "        'juice':4.5,\n",
    "        'foil':4,\n",
    "        'sugar':2},\n",
    "        'prices':{'tomatoes':0.87,\n",
    "        'washing_sponges':0.29,\n",
    "        'juice':1.89,\n",
    "        'foil':1.29,\n",
    "        'sugar':1.09},\n",
    "        'pack_sizes':{'tomatoes':6,\n",
    "        'washing_sponges':10,\n",
    "        'sugar':0.5,\n",
    "        'juice':1.5,\n",
    "        'foil':30}}"
   ]
  },
  {
   "cell_type": "code",
   "execution_count": 65,
   "metadata": {},
   "outputs": [
    {
     "name": "stdout",
     "output_type": "stream",
     "text": [
      "2.61\n",
      "3.19\n",
      "8.86\n",
      "14.02\n",
      "18.38\n",
      "The total cost of the order is £22.06.\n"
     ]
    }
   ],
   "source": [
    "#shop['prices']['tomatoes']\n",
    "\n",
    "order_subtotal = 0\n",
    "for item, quantity in shop['shopping'].items():\n",
    "    if item in ['washing_sponges', 'foil']:\n",
    "        packs_required = quantity\n",
    "    else:\n",
    "         packs_required = int(quantity / shop['pack_sizes'][item]) # int(quantity / shop['pack_sizes'][item]) + (quantity % shop['pack_sizes'][item] > 0)\n",
    " #   print(f\"I need {packs_required} packs of {item} to get {quantity} {item}\")\n",
    "    order_subtotal += shop['prices'][item] * packs_required\n",
    "    print(order_subtotal)\n",
    "\n",
    "order_total = round(order_subtotal * 1.2, 2)\n",
    "print(f\"The total cost of the order is £{order_total}.\")\n"
   ]
  },
  {
   "cell_type": "code",
   "execution_count": null,
   "metadata": {},
   "outputs": [],
   "source": [
    "objects = ['blue', 'apple', 'dog']\n"
   ]
  },
  {
   "cell_type": "markdown",
   "metadata": {},
   "source": [
    "<h2>Milestone 2</h2>"
   ]
  },
  {
   "cell_type": "markdown",
   "metadata": {},
   "source": [
    "<h3>BMI Checker</h3>"
   ]
  },
  {
   "cell_type": "code",
   "execution_count": 85,
   "metadata": {},
   "outputs": [],
   "source": [
    "height, weight = 1.83 , 85\n",
    "\n",
    "#height, weight = 1.55 , 61\n",
    "\n",
    "#height, weight = 2.09 , 135\n"
   ]
  },
  {
   "cell_type": "code",
   "execution_count": 86,
   "metadata": {},
   "outputs": [
    {
     "name": "stdout",
     "output_type": "stream",
     "text": [
      "Your BMI is 25.381468541909282. You're in the overweight range.\n"
     ]
    }
   ],
   "source": [
    "bmi = weight / height **2\n",
    "\n",
    "if bmi < 18.5:\n",
    "    print(f\"Your BMI is {bmi}. You're in the underweight range.\")\n",
    "elif 18.5 <= bmi <= 24.9:\n",
    "    print(f\"Your BMI is {bmi}. You're in the healthy weight range.\")\n",
    "elif 25 <= bmi <= 29.9:\n",
    "    print(f\"Your BMI is {bmi}. You're in the overweight range.\")\n",
    "elif 30 <= bmi <= 39.9:\n",
    "    print(f\"Your BMI is {bmi}. You're in the obese range.\")\n",
    "\n"
   ]
  },
  {
   "cell_type": "code",
   "execution_count": null,
   "metadata": {},
   "outputs": [],
   "source": []
  }
 ],
 "metadata": {
  "kernelspec": {
   "display_name": "Python 3",
   "language": "python",
   "name": "python3"
  },
  "language_info": {
   "codemirror_mode": {
    "name": "ipython",
    "version": 3
   },
   "file_extension": ".py",
   "mimetype": "text/x-python",
   "name": "python",
   "nbconvert_exporter": "python",
   "pygments_lexer": "ipython3",
   "version": "3.9.6 (default, Oct 18 2022, 12:41:40) \n[Clang 14.0.0 (clang-1400.0.29.202)]"
  },
  "orig_nbformat": 4,
  "vscode": {
   "interpreter": {
    "hash": "31f2aee4e71d21fbe5cf8b01ff0e069b9275f58929596ceb00d14d90e3e16cd6"
   }
  }
 },
 "nbformat": 4,
 "nbformat_minor": 2
}
