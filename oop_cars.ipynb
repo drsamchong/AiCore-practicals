{
 "cells": [
  {
   "cell_type": "code",
   "execution_count": 1,
   "metadata": {},
   "outputs": [
    {
     "name": "stdout",
     "output_type": "stream",
     "text": [
      "vroom\n",
      "Miles driven: 1. Model: Panda. Year: 1990\n"
     ]
    }
   ],
   "source": [
    "class Car():\n",
    "    def __init__(self, model, year=2023):\n",
    "        self.model = model\n",
    "        self.year = year\n",
    "        self.miles_driven = 0\n",
    "\n",
    "    def drive(self):\n",
    "        print(\"vroom\")\n",
    "        self.miles_driven += 1\n",
    "    \n",
    "    def info(self):\n",
    "        print(f\"Miles driven: {self.miles_driven}. Model: {self.model}. Year: {self.year}\")\n",
    "\n",
    "\n",
    "my_car = Car(\"Panda\", 1990)\n",
    "\n",
    "my_car.drive()\n",
    "my_car.info()\n"
   ]
  },
  {
   "cell_type": "code",
   "execution_count": null,
   "metadata": {},
   "outputs": [],
   "source": []
  }
 ],
 "metadata": {
  "kernelspec": {
   "display_name": "AiCore-base",
   "language": "python",
   "name": "python3"
  },
  "language_info": {
   "codemirror_mode": {
    "name": "ipython",
    "version": 3
   },
   "file_extension": ".py",
   "mimetype": "text/x-python",
   "name": "python",
   "nbconvert_exporter": "python",
   "pygments_lexer": "ipython3",
   "version": "3.11.0 | packaged by conda-forge | (main, Oct 25 2022, 06:21:25) [Clang 14.0.4 ]"
  },
  "orig_nbformat": 4,
  "vscode": {
   "interpreter": {
    "hash": "3ffeeb597b1af2cbfc54da3b21edbe6cf57613e9a3c6ae8cbb9f03bf4f40de10"
   }
  }
 },
 "nbformat": 4,
 "nbformat_minor": 2
}
